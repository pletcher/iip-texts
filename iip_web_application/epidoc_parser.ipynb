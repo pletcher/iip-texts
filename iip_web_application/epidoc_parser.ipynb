{
 "cells": [
  {
   "cell_type": "code",
   "execution_count": 1,
   "id": "fbd6c3e2-ce1a-49da-96ed-192271c220bf",
   "metadata": {},
   "outputs": [],
   "source": [
    "%load_ext autoreload\n",
    "%autoreload 2\n",
    "from iip_search.epidoc_parser import EpidocParser"
   ]
  },
  {
   "cell_type": "code",
   "execution_count": 2,
   "id": "f29436c4-76a6-46c0-862a-99ff71637ca3",
   "metadata": {},
   "outputs": [
    {
     "name": "stderr",
     "output_type": "stream",
     "text": [
      "INFO: 2023-08-08 17:36:16,204 Getting form taxonomy...\n",
      "INFO: 2023-08-08 17:36:16,205 Getting genre taxonomy...\n",
      "INFO: 2023-08-08 17:36:16,206 Getting materials taxonomy...\n",
      "INFO: 2023-08-08 17:36:16,206 Getting preservation taxonomy...\n",
      "INFO: 2023-08-08 17:36:16,207 Getting religion taxonomy...\n",
      "INFO: 2023-08-08 17:36:16,207 Getting writing taxonomy...\n",
      "INFO: 2023-08-08 17:36:16,208 Attempting to parse ../epidoc-files/masa0691.xml.\n"
     ]
    }
   ],
   "source": [
    "parser = EpidocParser(\"../epidoc-files/masa0691.xml\")"
   ]
  },
  {
   "cell_type": "code",
   "execution_count": 8,
   "id": "3a38e892-3aa1-42af-bd9e-a5c9aa2bd15d",
   "metadata": {},
   "outputs": [
    {
     "name": "stdout",
     "output_type": "stream",
     "text": [
      "Masada\n",
      "None\n"
     ]
    }
   ],
   "source": [
    "print(parser.get_city())"
   ]
  },
  {
   "cell_type": "code",
   "execution_count": 4,
   "id": "4fdfc9b3-f8e4-4ba9-80c2-0fc43dc48ee1",
   "metadata": {},
   "outputs": [],
   "source": [
    "NAMESPACES = {\"tei\": \"http://www.tei-c.org/ns/1.0\"}"
   ]
  },
  {
   "cell_type": "code",
   "execution_count": 6,
   "id": "67967a3a-6b68-4991-a940-b73ebc5d0417",
   "metadata": {},
   "outputs": [],
   "source": [
    "from lxml import etree"
   ]
  },
  {
   "cell_type": "code",
   "execution_count": 8,
   "id": "0dede2cb-cd8e-4854-b80a-2a4f2aecae02",
   "metadata": {},
   "outputs": [],
   "source": [
    "tree = etree.parse(\"../epidoc-files/zoor0332.xml\")"
   ]
  },
  {
   "cell_type": "code",
   "execution_count": 14,
   "id": "15850523-7061-4d85-b044-6ea8c3c7747c",
   "metadata": {},
   "outputs": [
    {
     "name": "stdout",
     "output_type": "stream",
     "text": [
      "<Element {http://www.tei-c.org/ns/1.0}div at 0x107caa140>\n"
     ]
    }
   ],
   "source": [
    "for bibl in tree.iterfind(\"//tei:text/tei:back/tei:div[@type = 'bibliography']\", namespaces=NAMESPACES): print(bibl)"
   ]
  }
 ],
 "metadata": {
  "kernelspec": {
   "display_name": "Python 3 (ipykernel)",
   "language": "python",
   "name": "python3"
  },
  "language_info": {
   "codemirror_mode": {
    "name": "ipython",
    "version": 3
   },
   "file_extension": ".py",
   "mimetype": "text/x-python",
   "name": "python",
   "nbconvert_exporter": "python",
   "pygments_lexer": "ipython3",
   "version": "3.11.3"
  }
 },
 "nbformat": 4,
 "nbformat_minor": 5
}
